{
 "cells": [
  {
   "cell_type": "markdown",
   "metadata": {},
   "source": [
    "### Set Up Environment"
   ]
  },
  {
   "cell_type": "code",
   "execution_count": 47,
   "metadata": {},
   "outputs": [],
   "source": [
    "import pandas as pd\n",
    "import numpy as np\n",
    "import matplotlib.pyplot as plt\n",
    "import seaborn as sns"
   ]
  },
  {
   "cell_type": "markdown",
   "metadata": {},
   "source": [
    "### Load the data"
   ]
  },
  {
   "cell_type": "code",
   "execution_count": 48,
   "metadata": {},
   "outputs": [
    {
     "data": {
      "text/html": [
       "<div>\n",
       "<style scoped>\n",
       "    .dataframe tbody tr th:only-of-type {\n",
       "        vertical-align: middle;\n",
       "    }\n",
       "\n",
       "    .dataframe tbody tr th {\n",
       "        vertical-align: top;\n",
       "    }\n",
       "\n",
       "    .dataframe thead th {\n",
       "        text-align: right;\n",
       "    }\n",
       "</style>\n",
       "<table border=\"1\" class=\"dataframe\">\n",
       "  <thead>\n",
       "    <tr style=\"text-align: right;\">\n",
       "      <th></th>\n",
       "      <th>transaction_id</th>\n",
       "      <th>customer_id</th>\n",
       "      <th>date</th>\n",
       "      <th>product_id</th>\n",
       "      <th>quantity</th>\n",
       "      <th>price</th>\n",
       "    </tr>\n",
       "  </thead>\n",
       "  <tbody>\n",
       "    <tr>\n",
       "      <th>0</th>\n",
       "      <td>1</td>\n",
       "      <td>101</td>\n",
       "      <td>2023-01-01</td>\n",
       "      <td>201</td>\n",
       "      <td>2</td>\n",
       "      <td>19.99</td>\n",
       "    </tr>\n",
       "    <tr>\n",
       "      <th>1</th>\n",
       "      <td>2</td>\n",
       "      <td>102</td>\n",
       "      <td>2023-01-02</td>\n",
       "      <td>202</td>\n",
       "      <td>1</td>\n",
       "      <td>9.99</td>\n",
       "    </tr>\n",
       "    <tr>\n",
       "      <th>2</th>\n",
       "      <td>3</td>\n",
       "      <td>103</td>\n",
       "      <td>2023-01-03</td>\n",
       "      <td>203</td>\n",
       "      <td>5</td>\n",
       "      <td>4.99</td>\n",
       "    </tr>\n",
       "    <tr>\n",
       "      <th>3</th>\n",
       "      <td>4</td>\n",
       "      <td>104</td>\n",
       "      <td>2023-01-04</td>\n",
       "      <td>204</td>\n",
       "      <td>3</td>\n",
       "      <td>14.99</td>\n",
       "    </tr>\n",
       "    <tr>\n",
       "      <th>4</th>\n",
       "      <td>5</td>\n",
       "      <td>105</td>\n",
       "      <td>2023-01-05</td>\n",
       "      <td>201</td>\n",
       "      <td>1</td>\n",
       "      <td>19.99</td>\n",
       "    </tr>\n",
       "  </tbody>\n",
       "</table>\n",
       "</div>"
      ],
      "text/plain": [
       "   transaction_id  customer_id        date  product_id  quantity  price\n",
       "0               1          101  2023-01-01         201         2  19.99\n",
       "1               2          102  2023-01-02         202         1   9.99\n",
       "2               3          103  2023-01-03         203         5   4.99\n",
       "3               4          104  2023-01-04         204         3  14.99\n",
       "4               5          105  2023-01-05         201         1  19.99"
      ]
     },
     "execution_count": 48,
     "metadata": {},
     "output_type": "execute_result"
    }
   ],
   "source": [
    "def readcsv(file):\n",
    "    return pd.read_csv(file)\n",
    "\n",
    "sales_data_df = readcsv('sales_data.csv')\n",
    "sales_data_df.head()"
   ]
  },
  {
   "cell_type": "markdown",
   "metadata": {},
   "source": [
    "### Data Cleaning"
   ]
  },
  {
   "cell_type": "code",
   "execution_count": 10,
   "metadata": {},
   "outputs": [],
   "source": [
    "def data_cleaning(df):\n",
    "\n",
    "    # Drop rows with missing values and create new dataframe of just missing value rows\n",
    "    df_cleaned = df.dropna()\n",
    "    df_missing = df[~df.index.isin(df_cleaned.index)]\n",
    "\n",
    "    # Convert columns to appropriate data types\n",
    "    df_cleaned['date'] = pd.to_datetime(df_cleaned['date'])\n",
    "    df_cleaned['price'] = pd.to_numeric(df_cleaned['price'])\n",
    "    df_cleaned['quantity'] = pd.to_numeric(df_cleaned['quantity'])\n",
    "    df_cleaned['customer_id'] = df_cleaned['customer_id'].astype('int')\n",
    "    df_cleaned['product_id'] = df_cleaned['product_id'].astype('int')\n",
    "    df_cleaned['transaction_id'] = df_cleaned['transaction_id'].astype('int')\n",
    "\n",
    "    "
   ]
  },
  {
   "cell_type": "code",
   "execution_count": 49,
   "metadata": {},
   "outputs": [
    {
     "data": {
      "text/plain": [
       "(180, 0, 180)"
      ]
     },
     "execution_count": 49,
     "metadata": {},
     "output_type": "execute_result"
    }
   ],
   "source": [
    "# remove rows with missing values from sales_data_df and add rows with missing values to a new dataframe\n",
    "sales_data_cleaned = sales_data_df.dropna()\n",
    "sales_data_missing = sales_data_df[~sales_data_df.index.isin(sales_data_cleaned.index)]\n",
    "sales_data_cleaned.size, sales_data_missing.size, sales_data_df.size"
   ]
  },
  {
   "cell_type": "code",
   "execution_count": 14,
   "metadata": {},
   "outputs": [],
   "source": [
    "#Now, you can deal with the columns that have missing values\n",
    "for col in missing_values_cols.index:\n",
    "    # Here, you can add your code to deal with the missing values in each column.\n",
    "    # For example, you might want to fill the missing values with the mean of the column:\n",
    "    sales_data_df[col].fillna(sales_data_df[col].mean(), inplace=True)"
   ]
  },
  {
   "cell_type": "code",
   "execution_count": 15,
   "metadata": {},
   "outputs": [
    {
     "data": {
      "text/html": [
       "<div>\n",
       "<style scoped>\n",
       "    .dataframe tbody tr th:only-of-type {\n",
       "        vertical-align: middle;\n",
       "    }\n",
       "\n",
       "    .dataframe tbody tr th {\n",
       "        vertical-align: top;\n",
       "    }\n",
       "\n",
       "    .dataframe thead th {\n",
       "        text-align: right;\n",
       "    }\n",
       "</style>\n",
       "<table border=\"1\" class=\"dataframe\">\n",
       "  <thead>\n",
       "    <tr style=\"text-align: right;\">\n",
       "      <th></th>\n",
       "      <th>transaction_id</th>\n",
       "      <th>customer_id</th>\n",
       "      <th>date</th>\n",
       "      <th>product_id</th>\n",
       "      <th>quantity</th>\n",
       "      <th>price</th>\n",
       "    </tr>\n",
       "  </thead>\n",
       "  <tbody>\n",
       "    <tr>\n",
       "      <th>25</th>\n",
       "      <td>26</td>\n",
       "      <td>126</td>\n",
       "      <td>2023-03-06</td>\n",
       "      <td>214</td>\n",
       "      <td>4</td>\n",
       "      <td>9.990000</td>\n",
       "    </tr>\n",
       "    <tr>\n",
       "      <th>26</th>\n",
       "      <td>27</td>\n",
       "      <td>127</td>\n",
       "      <td>2023-03-07</td>\n",
       "      <td>205</td>\n",
       "      <td>2</td>\n",
       "      <td>29.990000</td>\n",
       "    </tr>\n",
       "    <tr>\n",
       "      <th>27</th>\n",
       "      <td>28</td>\n",
       "      <td>128</td>\n",
       "      <td>2023-03-08</td>\n",
       "      <td>206</td>\n",
       "      <td>1</td>\n",
       "      <td>39.990000</td>\n",
       "    </tr>\n",
       "    <tr>\n",
       "      <th>28</th>\n",
       "      <td>29</td>\n",
       "      <td>129</td>\n",
       "      <td>2023-03-09</td>\n",
       "      <td>207</td>\n",
       "      <td>3</td>\n",
       "      <td>24.990000</td>\n",
       "    </tr>\n",
       "    <tr>\n",
       "      <th>29</th>\n",
       "      <td>30</td>\n",
       "      <td>130</td>\n",
       "      <td>2023-03-10</td>\n",
       "      <td>203</td>\n",
       "      <td>2</td>\n",
       "      <td>19.852069</td>\n",
       "    </tr>\n",
       "  </tbody>\n",
       "</table>\n",
       "</div>"
      ],
      "text/plain": [
       "    transaction_id  customer_id        date  product_id  quantity      price\n",
       "25              26          126  2023-03-06         214         4   9.990000\n",
       "26              27          127  2023-03-07         205         2  29.990000\n",
       "27              28          128  2023-03-08         206         1  39.990000\n",
       "28              29          129  2023-03-09         207         3  24.990000\n",
       "29              30          130  2023-03-10         203         2  19.852069"
      ]
     },
     "execution_count": 15,
     "metadata": {},
     "output_type": "execute_result"
    }
   ],
   "source": [
    "sales_data_df.tail()"
   ]
  },
  {
   "cell_type": "code",
   "execution_count": 16,
   "metadata": {},
   "outputs": [
    {
     "data": {
      "text/plain": [
       "transaction_id    0\n",
       "customer_id       0\n",
       "date              0\n",
       "product_id        0\n",
       "quantity          0\n",
       "price             0\n",
       "dtype: int64"
      ]
     },
     "execution_count": 16,
     "metadata": {},
     "output_type": "execute_result"
    }
   ],
   "source": [
    "sales_data_df.isna().sum()"
   ]
  },
  {
   "cell_type": "code",
   "execution_count": null,
   "metadata": {},
   "outputs": [],
   "source": []
  }
 ],
 "metadata": {
  "kernelspec": {
   "display_name": "Python 3",
   "language": "python",
   "name": "python3"
  },
  "language_info": {
   "codemirror_mode": {
    "name": "ipython",
    "version": 3
   },
   "file_extension": ".py",
   "mimetype": "text/x-python",
   "name": "python",
   "nbconvert_exporter": "python",
   "pygments_lexer": "ipython3",
   "version": "3.10.11"
  }
 },
 "nbformat": 4,
 "nbformat_minor": 2
}
